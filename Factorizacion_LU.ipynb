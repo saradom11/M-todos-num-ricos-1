{
  "nbformat": 4,
  "nbformat_minor": 0,
  "metadata": {
    "colab": {
      "provenance": [],
      "authorship_tag": "ABX9TyO2t9G1WQhHy3/w8hpoys6B",
      "include_colab_link": true
    },
    "kernelspec": {
      "name": "python3",
      "display_name": "Python 3"
    },
    "language_info": {
      "name": "python"
    }
  },
  "cells": [
    {
      "cell_type": "markdown",
      "metadata": {
        "id": "view-in-github",
        "colab_type": "text"
      },
      "source": [
        "<a href=\"https://colab.research.google.com/github/saradom11/M-todos-num-ricos-1/blob/main/Factorizacion_LU.ipynb\" target=\"_parent\"><img src=\"https://colab.research.google.com/assets/colab-badge.svg\" alt=\"Open In Colab\"/></a>"
      ]
    },
    {
      "cell_type": "markdown",
      "source": [
        "# **Factorización LU:**\n",
        "#### Elaborar en una notebook de Jupyter un código que implemente el algoritmo 6.4 (página 303). Usar como prueba la matriz A del ejemplo 2 de la página 301.\n",
        "![image.png](data:image/png;base64,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)"
      ],
      "metadata": {
        "id": "8Yo3P3GjV9QK"
      }
    },
    {
      "cell_type": "code",
      "execution_count": 1,
      "metadata": {
        "id": "oFT4eRsZV5og"
      },
      "outputs": [],
      "source": [
        "# Primero tenemos que importar las librerías\n",
        "import numpy as np"
      ]
    },
    {
      "cell_type": "code",
      "source": [
        "# Definimos la matriz A del ejemplo:\n",
        "A = np.array([[1, 1, 0, 3],\n",
        "    [2, 1, -1, 1],\n",
        "    [3, -1, -1, 2],\n",
        "    [-1, 2, 3, -1]], dtype=float)\n",
        "# Vector b del ejemplo 2\n",
        "b = np.array([4, 1, -3, 4], dtype=float)\n",
        "\n",
        "n = A.shape[0]   # n es la dimensión de la matriz A\n",
        "L = np.zeros((n, n))  # Inicializamos L y U\n",
        "U = np.zeros((n, n))"
      ],
      "metadata": {
        "id": "A8f-HTd2ZcLV"
      },
      "execution_count": 2,
      "outputs": []
    },
    {
      "cell_type": "code",
      "source": [
        "# Proceso de factorización LU:\n",
        "for i in range(n):  # El bucle itera sobre las filas de la matriz A\n",
        "    for j in range(i, n):\n",
        "        U[i, j] = A[i, j] - sum(L[i, k] * U[k, j] for k in range(i))  # Para cada columna j≥i, se calcula el elemento U[i,j] (Calculó mediante las formulas del código)\n",
        "    if U[i, i] == 0:  # Si el pivote U[i,i] es cero, no es posible continuar la factorización porque la matriz sería singular\n",
        "        raise ValueError(\"Factorización imposible: la matriz es singular.\")\n",
        "    for j in range(i, n):\n",
        "        if i == j:\n",
        "            L[j, i] = 1  # La diagonal de L es 1\n",
        "        else:\n",
        "            L[j, i] = (A[j, i] - sum(L[j, k] * U[k, i] for k in range(i))) / U[i, i] # Si i≠j, se calcula el elemento L[j,i] (Calculó mediante las formulas del código)"
      ],
      "metadata": {
        "id": "6iKXD5IQkpRs"
      },
      "execution_count": 3,
      "outputs": []
    },
    {
      "cell_type": "code",
      "source": [
        "# Imprimimos el resultado de la matriz L y U:\n",
        "print(\"Matriz L:\")\n",
        "print(L)\n",
        "print(\"\\nMatriz U:\")\n",
        "print(U)"
      ],
      "metadata": {
        "colab": {
          "base_uri": "https://localhost:8080/"
        },
        "id": "htv7UriRqkRy",
        "outputId": "6dd5c3f6-2d68-4d1e-9f0c-28c973d547de"
      },
      "execution_count": 4,
      "outputs": [
        {
          "output_type": "stream",
          "name": "stdout",
          "text": [
            "Matriz L:\n",
            "[[ 1.  0.  0.  0.]\n",
            " [ 2.  1.  0.  0.]\n",
            " [ 3.  4.  1.  0.]\n",
            " [-1. -3.  0.  1.]]\n",
            "\n",
            "Matriz U:\n",
            "[[  1.   1.   0.   3.]\n",
            " [  0.  -1.  -1.  -5.]\n",
            " [  0.   0.   3.  13.]\n",
            " [  0.   0.   0. -13.]]\n"
          ]
        }
      ]
    }
  ]
}