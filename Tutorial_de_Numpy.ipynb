{
  "nbformat": 4,
  "nbformat_minor": 0,
  "metadata": {
    "colab": {
      "provenance": [],
      "authorship_tag": "ABX9TyOcGEK4qPbnIdvhcI9SbTP2",
      "include_colab_link": true
    },
    "kernelspec": {
      "name": "python3",
      "display_name": "Python 3"
    },
    "language_info": {
      "name": "python"
    }
  },
  "cells": [
    {
      "cell_type": "markdown",
      "metadata": {
        "id": "view-in-github",
        "colab_type": "text"
      },
      "source": [
        "<a href=\"https://colab.research.google.com/github/saradom11/M-todos-num-ricos-1/blob/main/Tutorial_de_Numpy.ipynb\" target=\"_parent\"><img src=\"https://colab.research.google.com/assets/colab-badge.svg\" alt=\"Open In Colab\"/></a>"
      ]
    },
    {
      "cell_type": "markdown",
      "source": [
        "# **Tutorial de Numpy :**"
      ],
      "metadata": {
        "id": "Zw5c1WNsFuCJ"
      }
    },
    {
      "cell_type": "markdown",
      "source": [
        "NumPy (Numerical Python) es una librería de Python especializada en el cálculo numérico y el análisis de datos, especialmente para un gran volumen de datos. Es útil para trabajar con arreglos y matrices, y es ampliamente utilizada en ciencia de datos y estadística."
      ],
      "metadata": {
        "id": "jl8WaKl0IZFK"
      }
    },
    {
      "cell_type": "markdown",
      "source": [
        "Este tutorial se divide en 2 partes. \\\n",
        "La 1ra consta de aspectos básicos:\n",
        "\n",
        "1.   Creación de arreglos (arrays)\n",
        "2.   Operaciones básicas con arreglos\n",
        "3.   Acceso a datos y manipulación\n",
        "\n",
        "La 2da consta de aspectos aplicados a los polinomios de interpolación y grafiquen los datos: \\\n",
        "\n",
        "4.   Creación de Tablas\n",
        "5.   Operaciones de Selección y Filtros de Datos\n",
        "6.   Herramientas para Interpolación y Ajuste de Polinomios\n",
        "7.   Ejemplo Completo con Ajuste de Polinomio y Gráfica\n",
        "\n",
        "\n"
      ],
      "metadata": {
        "id": "xr_kFSQSJn4O"
      }
    },
    {
      "cell_type": "code",
      "source": [
        "# Primero importamos la librería NumPy\n",
        "import numpy as np"
      ],
      "metadata": {
        "id": "8gmu5unxOFO2"
      },
      "execution_count": 3,
      "outputs": []
    },
    {
      "cell_type": "markdown",
      "source": [
        "###   1. Creación de **Arreglos** desde Listas:\n"
      ],
      "metadata": {
        "id": "zEyu_KePOZpF"
      }
    },
    {
      "cell_type": "code",
      "source": [
        "# Crear un arreglo de una lista de números\n",
        "lista = [1, 2, 3, 4, 5]\n",
        "arr = np.array(lista)\n",
        "print(\"Arreglo creado de una lista:\", arr)"
      ],
      "metadata": {
        "colab": {
          "base_uri": "https://localhost:8080/"
        },
        "id": "vmDT-fnePPeq",
        "outputId": "44ca310d-4917-4907-e210-1deb79c65324"
      },
      "execution_count": 4,
      "outputs": [
        {
          "output_type": "stream",
          "name": "stdout",
          "text": [
            "Arreglo creado de una lista: [1 2 3 4 5]\n"
          ]
        }
      ]
    },
    {
      "cell_type": "markdown",
      "source": [
        "### 1. Rango de valores:\n",
        "Puedes crear arreglos con rangos específicos, como en **range** , o con **linspace** para intervalos igualmente espaciados"
      ],
      "metadata": {
        "id": "flcztZC9S-u_"
      }
    },
    {
      "cell_type": "code",
      "source": [
        "# Arreglo con valores de 0 a 10 (excluye 10)\n",
        "arr_range = np.arange(0, 10)\n",
        "print(\"Arreglo con valores de 0 a 9:\", arr_range)\n",
        "\n",
        "# Arreglo con valores igualmente espaciados\n",
        "arr_linspace = np.linspace(0, 1, 5)  # 5 valores entre 0 y 1\n",
        "print(\"Arreglo con valores igualmente espaciados:\", arr_linspace)"
      ],
      "metadata": {
        "colab": {
          "base_uri": "https://localhost:8080/"
        },
        "id": "QkWIoPZhTWye",
        "outputId": "fdc8c344-82e9-4bc6-a8eb-9d0f099ca14e"
      },
      "execution_count": 5,
      "outputs": [
        {
          "output_type": "stream",
          "name": "stdout",
          "text": [
            "Arreglo con valores de 0 a 9: [0 1 2 3 4 5 6 7 8 9]\n",
            "Arreglo con valores igualmente espaciados: [0.   0.25 0.5  0.75 1.  ]\n"
          ]
        }
      ]
    },
    {
      "cell_type": "markdown",
      "source": [
        "### 2. Operaciones Básicas con Arreglos:\n",
        "NumPy permite realizar operaciones aritméticas con arreglos."
      ],
      "metadata": {
        "id": "j2mYE7kMUJmZ"
      }
    },
    {
      "cell_type": "code",
      "source": [
        "# Suma, resta, multiplicación y división\n",
        "arr = np.array([1, 2, 3, 4])\n",
        "print(\"Arreglo original:\", arr)\n",
        "print(\"Suma 2 a cada elemento:\", arr + 2)\n",
        "print(\"Multiplica cada elemento por 3:\", arr * 3)\n",
        "print(\"Eleva cada elemento al cuadrado:\", arr ** 2)\n",
        "\n",
        "# Operaciones entre arreglos\n",
        "arr2 = np.array([5, 6, 7, 8])\n",
        "print(\"Suma de dos arreglos:\", arr + arr2)\n",
        "print(\"Producto elemento a elemento:\", arr * arr2)\n"
      ],
      "metadata": {
        "id": "SOGfZsCOUi9q",
        "colab": {
          "base_uri": "https://localhost:8080/"
        },
        "outputId": "c1119c29-75ba-441f-90e8-0e1e2fb6f31b"
      },
      "execution_count": 6,
      "outputs": [
        {
          "output_type": "stream",
          "name": "stdout",
          "text": [
            "Arreglo original: [1 2 3 4]\n",
            "Suma 2 a cada elemento: [3 4 5 6]\n",
            "Multiplica cada elemento por 3: [ 3  6  9 12]\n",
            "Eleva cada elemento al cuadrado: [ 1  4  9 16]\n",
            "Suma de dos arreglos: [ 6  8 10 12]\n",
            "Producto elemento a elemento: [ 5 12 21 32]\n"
          ]
        }
      ]
    },
    {
      "cell_type": "markdown",
      "source": [
        "### 3. Acceso a Elementos\n",
        "Puedes acceder a los datos y modificar la estructura de los arreglos de varias formas."
      ],
      "metadata": {
        "id": "axfx5Oe7VPo2"
      }
    },
    {
      "cell_type": "code",
      "source": [
        "arr = np.array([10, 20, 30, 40, 50])\n",
        "print(\"Elemento en la posición 0:\", arr[0])\n",
        "print(\"Último elemento:\", arr[-1])\n",
        "print(\"Elementos del 1 al 3:\", arr[1:4])\n",
        "print(\"Elementos desde el inicio hasta la posición 3:\", arr[:4])\n",
        "print(\"Elementos desde la posición 2 hasta el final:\", arr[2:])"
      ],
      "metadata": {
        "id": "yblSb1OQVSmF",
        "colab": {
          "base_uri": "https://localhost:8080/"
        },
        "outputId": "12be7dd4-af8a-484e-c8d0-ef48fb12fe87"
      },
      "execution_count": 7,
      "outputs": [
        {
          "output_type": "stream",
          "name": "stdout",
          "text": [
            "Elemento en la posición 0: 10\n",
            "Último elemento: 50\n",
            "Elementos del 1 al 3: [20 30 40]\n",
            "Elementos desde el inicio hasta la posición 3: [10 20 30 40]\n",
            "Elementos desde la posición 2 hasta el final: [30 40 50]\n"
          ]
        }
      ]
    },
    {
      "cell_type": "markdown",
      "source": [
        "###  4. Creación de Arreglos 2D para Tablas de Datos\n",
        "Para trabajar con datos estructurados, es común usar arrays 2D que representan tablas."
      ],
      "metadata": {
        "id": "wVgQ_V7qV6Md"
      }
    },
    {
      "cell_type": "code",
      "source": [
        "# Crear un arreglo 2D desde una lista de listas\n",
        "datos = np.array([[1, 2, 3], [4, 5, 6], [7, 8, 9]])\n",
        "print(\"Arreglo 2D (Tabla de datos):\\n\", datos)"
      ],
      "metadata": {
        "colab": {
          "base_uri": "https://localhost:8080/"
        },
        "id": "yuqlr1RzR-dA",
        "outputId": "17319ff9-cca6-4e8a-fa63-477263915983"
      },
      "execution_count": 8,
      "outputs": [
        {
          "output_type": "stream",
          "name": "stdout",
          "text": [
            "Arreglo 2D (Tabla de datos):\n",
            " [[1 2 3]\n",
            " [4 5 6]\n",
            " [7 8 9]]\n"
          ]
        }
      ]
    },
    {
      "cell_type": "markdown",
      "source": [
        "### 5. Selección de Filas y Columna\n",
        "Puedes seleccionar filas y columnas específicas para análisis y manipulación"
      ],
      "metadata": {
        "id": "LbnR35CwYDr-"
      }
    },
    {
      "cell_type": "code",
      "source": [
        "# Seleccionar una fila específica\n",
        "print(\"Primera fila:\", datos[0, :])\n",
        "\n",
        "# Seleccionar una columna específica\n",
        "print(\"Segunda columna:\", datos[:, 1])"
      ],
      "metadata": {
        "colab": {
          "base_uri": "https://localhost:8080/"
        },
        "id": "IGecriWmYFtP",
        "outputId": "5669b403-9a83-430c-e57a-0c8dd6bb0d93"
      },
      "execution_count": 9,
      "outputs": [
        {
          "output_type": "stream",
          "name": "stdout",
          "text": [
            "Primera fila: [1 2 3]\n",
            "Segunda columna: [2 5 8]\n"
          ]
        }
      ]
    },
    {
      "cell_type": "markdown",
      "source": [
        "### 5. Filtros y Condiciones"
      ],
      "metadata": {
        "id": "IBs0LikyYk3f"
      }
    },
    {
      "cell_type": "code",
      "source": [
        "# Filtros en datos 2D: obtener valores mayores que 4\n",
        "filtro = datos > 4\n",
        "print(\"Valores mayores a 4:\\n\", datos[filtro])"
      ],
      "metadata": {
        "colab": {
          "base_uri": "https://localhost:8080/"
        },
        "id": "KOLmXnq_Ym5R",
        "outputId": "7d92517d-580d-44bf-f120-d81421fd6a8a"
      },
      "execution_count": 10,
      "outputs": [
        {
          "output_type": "stream",
          "name": "stdout",
          "text": [
            "Valores mayores a 4:\n",
            " [5 6 7 8 9]\n"
          ]
        }
      ]
    },
    {
      "cell_type": "markdown",
      "source": [
        "### 6. Interpolación de Datos\n",
        "Para realizar interpolación en datos, utilizamos **np.polyfit**, que permite ajustar polinomios a conjuntos de datos. \\\n",
        "\\\n",
        "La función polyfit() acepta tres valores de entrada diferentes: $x$, $y$ y el grado polinómico. \\\n",
        "Mientras que $x$ e $y$ corresponden a los valores de los puntos de datos que queremos ajustar, en los ejes x e y, respectivamente, el tercer parámetro especifica el grado de nuestra función polinómica. Dado que queremos un ajuste cu, cuadrático vamos a especificar un grado igual a 2. La salida de la función polyfit() será una lista que contiene los parámetros de ajuste: el primero es el que en la función se multiplica por el término de mayor grado y así sucesivamente en orden decreciente."
      ],
      "metadata": {
        "id": "eUb4mZ-abIhQ"
      }
    },
    {
      "cell_type": "code",
      "source": [
        "# Datos de ejemplo\n",
        "x = np.array([0, 1, 2, 3, 4, 5])\n",
        "y = np.array([0, 1, 4, 9, 16, 25])\n",
        "\n",
        "# Ajuste de un polinomio de grado 2\n",
        "coeficientes = np.polyfit(x, y, 2)\n",
        "print(\"Coeficientes del polinomio de ajuste:\", coeficientes)"
      ],
      "metadata": {
        "colab": {
          "base_uri": "https://localhost:8080/"
        },
        "id": "Q4o6Gr_jbKQw",
        "outputId": "3528e359-59c7-404f-bccb-9449e549e975"
      },
      "execution_count": 11,
      "outputs": [
        {
          "output_type": "stream",
          "name": "stdout",
          "text": [
            "Coeficientes del polinomio de ajuste: [ 1.00000000e+00 -3.87383946e-15  7.53182222e-15]\n"
          ]
        }
      ]
    },
    {
      "cell_type": "markdown",
      "source": [
        "## Ejemplo: Interpolación de Datos\n",
        "Supongamos que hay una serie de datos en 𝑥 , 𝑦, y queremos encontrar la recta que mejor se ajusta a esos puntos."
      ],
      "metadata": {
        "id": "al1U7ygiSKpw"
      }
    },
    {
      "cell_type": "code",
      "source": [
        "# Primero importamos la librería\n",
        "import matplotlib.pyplot as plt\n",
        "\n",
        "# Datos de entrada (crear una pequeña tabla con algunos valores de x , y)\n",
        "x = np.array([0, 1, 2, 3, 4])  # Valores en el eje x\n",
        "y = np.array([1, 3, 5, 7, 9])  # Valores en el eje y\n",
        "# (Los valores de \"y\" aumentan de forma lineal a medida que \"x\" aumenta, por lo que haremos un ajuste de polinomio de grado 1.)\n",
        "\n",
        "# Ajuste de un polinomio de grado 1 a los datos\n",
        "coeficientes = np.polyfit(x, y, 1)\n",
        "print(\"Coeficientes de la recta ajustada:\", coeficientes)\n",
        "\n",
        "# Generación de puntos para graficar el polinomio ajustado (Evaluar la línea ajustada en un conjunto de puntos para visualizarla)\n",
        "x_nuevo = np.linspace(0, 5, 100)  # np.linspace(inicio, fin, n) : Crea y devuelve una referencia a un array de una dimensión cuyos elementos son la secuencia de n valores equidistantes desde inicio hasta fin.\n",
        "y_nuevo = np.polyval(coeficientes, x_nuevo)  # np.polyval(p, x) ; p: Coeficientes del polinomio, comenzando con el coeficiente del término de mayor grado. x: Puntos en los cuales se evaluará el polinomio.\n",
        "\n",
        "# Gráfica\n",
        "plt.figure(figsize=(6, 6))\n",
        "plt.scatter(x, y, color='red', label='Datos Originales')  # Graficar los puntos originales. Creación de grafico de dispersión (scatter plot)\n",
        "plt.plot(x_nuevo, y_nuevo, label='Línea Ajustada', color='blue')  # Graficar la línea ajustada\n",
        "plt.xlabel('x')\n",
        "plt.ylabel('y')\n",
        "plt.title('Ajuste de Datos de Grado 1')\n",
        "plt.legend()\n",
        "plt.grid(True)\n",
        "plt.show()"
      ],
      "metadata": {
        "colab": {
          "base_uri": "https://localhost:8080/",
          "height": 581
        },
        "id": "d7aB40yjSjbM",
        "outputId": "f35eec8c-903e-4f04-ffca-38ed6ce236d2"
      },
      "execution_count": 13,
      "outputs": [
        {
          "output_type": "stream",
          "name": "stdout",
          "text": [
            "Coeficientes de la recta ajustada: [2. 1.]\n"
          ]
        },
        {
          "output_type": "display_data",
          "data": {
            "text/plain": [
              "<Figure size 600x600 with 1 Axes>"
            ],
            "image/png": "[encoded data removed]"
          },
          "metadata": {}
        }
      ]
    }
  ]
}