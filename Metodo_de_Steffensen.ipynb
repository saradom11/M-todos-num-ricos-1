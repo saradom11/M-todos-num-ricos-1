{
  "nbformat": 4,
  "nbformat_minor": 0,
  "metadata": {
    "colab": {
      "provenance": [],
      "authorship_tag": "ABX9TyNNqGJnkDHQ05ORvsbVYXCJ",
      "include_colab_link": true
    },
    "kernelspec": {
      "name": "python3",
      "display_name": "Python 3"
    },
    "language_info": {
      "name": "python"
    }
  },
  "cells": [
    {
      "cell_type": "markdown",
      "metadata": {
        "id": "view-in-github",
        "colab_type": "text"
      },
      "source": [
        "<a href=\"https://colab.research.google.com/github/saradom11/M-todos-num-ricos-1/blob/main/Metodo_de_Steffensen.ipynb\" target=\"_parent\"><img src=\"https://colab.research.google.com/assets/colab-badge.svg\" alt=\"Open In Colab\"/></a>"
      ]
    },
    {
      "cell_type": "markdown",
      "source": [
        "# **Método de Steffensen **"
      ],
      "metadata": {
        "id": "6EuOo9EYFObL"
      }
    },
    {
      "cell_type": "markdown",
      "source": [
        "#Resuelva la ecuación $f(x) = cos(x) - 2x + 3 = 0$ con una precisión de 0.00001.\n"
      ],
      "metadata": {
        "id": "ZKGSSBQmFi0V"
      }
    },
    {
      "cell_type": "code",
      "execution_count": 52,
      "metadata": {
        "id": "2xmC_3hVE4tV"
      },
      "outputs": [],
      "source": [
        "from math import *\n",
        "import numpy as np\n",
        "import matplotlib . pyplot as plt"
      ]
    },
    {
      "cell_type": "code",
      "source": [
        "def f(x):\n",
        "    return np.cos(x) - 2*x + 3  # Definimos la función\n",
        "def g(x):\n",
        "    return (np.cos(x) + 3) / 2  # Definimos la función g(x)"
      ],
      "metadata": {
        "id": "7F9jyHCPM3vU"
      },
      "execution_count": 53,
      "outputs": []
    },
    {
      "cell_type": "code",
      "source": [
        "# Verificar que la función original es continua\n",
        "f1 = f(1)\n",
        "f2 = f(2)\n",
        "\n",
        "print(f\"f(1) = {f1:.4f}\")  # Redondeamos a 4 decimales\n",
        "print(f\"f(2) = {f2:.4f}\")\n",
        "\n",
        "#Evaluamos en 2 valores para verificar que la nueva ecuación tambien esta continua\n",
        "g1 = g(1)\n",
        "g2 = g(2)\n",
        "\n",
        "print(f\"g(1) = {g1:.4f}\")  # Redondeamos a 4 decimales\n",
        "print(f\"g(2) = {g2:.4f}\")"
      ],
      "metadata": {
        "colab": {
          "base_uri": "https://localhost:8080/"
        },
        "id": "4GgCOOtQbZHD",
        "outputId": "ed368618-e55d-4810-9dd0-8d3eb42a62a1"
      },
      "execution_count": 54,
      "outputs": [
        {
          "output_type": "stream",
          "name": "stdout",
          "text": [
            "f(1) = 1.5403\n",
            "f(2) = -1.4161\n",
            "g(1) = 1.7702\n",
            "g(2) = 1.2919\n"
          ]
        }
      ]
    },
    {
      "cell_type": "code",
      "source": [
        "# Parámetros iniciales\n",
        "p0 = 1  # Valor inicial\n",
        "tolerancia = 0.00001  # Precisión\n",
        "max_iter = 100  # Número máximo de iteraciones"
      ],
      "metadata": {
        "id": "xizodbx1Jk0z"
      },
      "execution_count": 55,
      "outputs": []
    },
    {
      "cell_type": "code",
      "source": [
        "# Método de Steffensen:\n",
        "\n",
        "# Imprimir encabezado de la tabla\n",
        "print(\"{:^10} | {:^12} | {:^12} | {:^12}\".format(\"Iteración\", \"p_n\", \"p_n+1\", \"Error\"))\n",
        "print('------------------------------------------------------')\n",
        "\n",
        "# Método de Steffensen\n",
        "for i in range(1, max_iter + 1):\n",
        "    # Calcular valores necesarios para la extrapolación de Aitken\n",
        "    g_p0 = g(p0)  # g(p0)\n",
        "    p1 = g_p0     # p1 = g(p0)\n",
        "    g_p1 = g(p1)  # g(p1)\n",
        "    p2 = g_p1     # p2 = g(p1)\n",
        "\n",
        "    # Verificamos que no haya división por cero\n",
        "    denom = p2 - 2*p1 + p0\n",
        "    if abs(denom) < 0.000000001:  # Si el denominador es muy pequeño, detener la iteración\n",
        "        print(\"División por un valor cercano a cero.\")\n",
        "        break\n",
        "\n",
        "    # Aplicamos la fórmula de Steffensen\n",
        "    p = p2 - ((p2 - p1)**2) / denom\n",
        "\n",
        "    # Calculamos el error\n",
        "    error = abs(p - p0)\n",
        "\n",
        "    # Imprimimos los resultados de cada iteración\n",
        "    print(\"{:^10} | {:^12.6f} | {:^12.6f} | {:^12.6f}\".format(i, p0, p, error))\n",
        "\n",
        "    # Verificamos la condición de parada\n",
        "    if error < tolerancia:\n",
        "        print(f\"\\nLa solución aproximada es p = {p:.6f} con un error de {error:.6f}\")\n",
        "        break\n",
        "\n",
        "    # Actualizamos p0 para la siguiente iteración\n",
        "    p0 = p"
      ],
      "metadata": {
        "colab": {
          "base_uri": "https://localhost:8080/"
        },
        "id": "DDovDgx7JrcC",
        "outputId": "3c0b04f8-ad9a-421a-9304-cbe6a2d8928c"
      },
      "execution_count": 56,
      "outputs": [
        {
          "output_type": "stream",
          "name": "stdout",
          "text": [
            "Iteración  |     p_n      |    p_n+1     |    Error    \n",
            "------------------------------------------------------\n",
            "    1      |   1.000000   |   1.520602   |   0.520602  \n",
            "    2      |   1.520602   |   1.523593   |   0.002991  \n",
            "    3      |   1.523593   |   1.523593   |   0.000000  \n",
            "\n",
            "La solución aproximada es p = 1.523593 con un error de 0.000000\n"
          ]
        }
      ]
    },
    {
      "cell_type": "code",
      "source": [
        "# Valores del eje x que toma el gráfico.\n",
        "x=np.linspace(-50, 50,400)"
      ],
      "metadata": {
        "id": "EMqSxSDMo30G"
      },
      "execution_count": 57,
      "outputs": []
    },
    {
      "cell_type": "code",
      "source": [
        "# Gráfica de la función\n",
        "plt.figure(figsize=(5,5))\n",
        "plt.title(r'Gráfica de $\\frac{\\cos(x) + 3}{2}$', fontsize=20)\n",
        "plt.xlabel('Eje x', fontsize=14)\n",
        "plt.ylabel('Eje y', fontsize=14)\n",
        "plt.plot(x, g(x), color=\"red\", label=r'g(x)= $\\frac{\\cos(x) + 3}{2}$')\n",
        "plt.axhline(0, color=\"black\")\n",
        "plt.axvline(0, color=\"black\")\n",
        "plt.xlim(0, 5)\n",
        "plt.ylim(0, 2.5)\n",
        "# Mostrarlo.\n",
        "plt.legend()\n",
        "plt.show()"
      ],
      "metadata": {
        "colab": {
          "base_uri": "https://localhost:8080/",
          "height": 515
        },
        "id": "KQ9oIcEDo65M",
        "outputId": "e84411ca-0353-447d-eaf1-57d2ed828de5"
      },
      "execution_count": 58,
      "outputs": [
        {
          "output_type": "display_data",
          "data": {
            "text/plain": [
              "<Figure size 500x500 with 1 Axes>"
            ],
            "image/png": "[encoded data removed]"
          },
          "metadata": {}
        }
      ]
    }
  ]
}