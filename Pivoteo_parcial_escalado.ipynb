{
  "nbformat": 4,
  "nbformat_minor": 0,
  "metadata": {
    "colab": {
      "provenance": [],
      "authorship_tag": "ABX9TyM5F3xoEDOMwORB6bGJViVz",
      "include_colab_link": true
    },
    "kernelspec": {
      "name": "python3",
      "display_name": "Python 3"
    },
    "language_info": {
      "name": "python"
    }
  },
  "cells": [
    {
      "cell_type": "markdown",
      "metadata": {
        "id": "view-in-github",
        "colab_type": "text"
      },
      "source": [
        "<a href=\"https://colab.research.google.com/github/saradom11/M-todos-num-ricos-1/blob/main/Pivoteo_parcial_escalado.ipynb\" target=\"_parent\"><img src=\"https://colab.research.google.com/assets/colab-badge.svg\" alt=\"Open In Colab\"/></a>"
      ]
    },
    {
      "cell_type": "markdown",
      "source": [
        "# **Pivoteo parcial escalonado:**\n",
        "#### Escribir un programa en Python que implemente el Algoritmo 6.3 para resolver ecuaciones lineales (página 284 del Burden). Como prueba, resuelva el Ejemplo 3 de la página 284.\n",
        "\n",
        "![image.png](data:image/png;base64,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)"
      ],
      "metadata": {
        "id": "6XR6HfrwZDaZ"
      }
    },
    {
      "cell_type": "code",
      "source": [
        "# Primero importamos la librería\n",
        "import numpy as np"
      ],
      "metadata": {
        "id": "WFaRh-UBZtvh"
      },
      "execution_count": 1,
      "outputs": []
    },
    {
      "cell_type": "code",
      "execution_count": 2,
      "metadata": {
        "id": "dMUp03zrYTu1"
      },
      "outputs": [],
      "source": [
        "# Ingresamos los datos\n",
        "A = [[2.11, -4.21, 0.921],\n",
        "     [4.01, 10.2, -1.12],\n",
        "     [1.09, 0.987, 0.832]]  # La matriz de coeficientes del sistema lineal\n",
        "\n",
        "b = [2.01, -3.09, 4.21]   # La matriz de términos independientes"
      ]
    },
    {
      "cell_type": "code",
      "source": [
        "# Número de ecuaciones\n",
        "n = len(A)\n",
        "\n",
        "# Inicializamos el indicador de fila\n",
        "NROW = list(range(n))\n",
        "\n",
        "# Realizamos la matriz aumentada\n",
        "A = np.array(A, dtype=float)   # Convertimos lo que ingresamos en A a un arreglo de numpy\n",
        "b = np.array(b, dtype=float)   # Convertimos lo que ingresamos en b a un arreglo de numpy\n",
        "Aug = np.column_stack((A, b))  # Crea la matriz aumentada [A | b]"
      ],
      "metadata": {
        "id": "3B0umpkZaehq"
      },
      "execution_count": 3,
      "outputs": []
    },
    {
      "cell_type": "code",
      "source": [
        "# Escalado para cada fila\n",
        "s = [max(abs(row)) for row in Aug[:, :-1]]\n",
        "\n",
        "# Comenzamos con el proceso de eliminación:\n",
        "\n",
        "for i in range(n):\n",
        "    # Encontrar el pivote escalonado (p)\n",
        "    p = max(range(i, n), key=lambda k: abs(Aug[NROW[k], i] / s[NROW[k]]))   # Calculamos el valor escalado de cada fila en la columna actual\n",
        "    if abs(Aug[NROW[p], i]) == 0:   # Si el valor del pivote es cero, el sistema no tiene solución única y se detiene el proceso\n",
        "        print(\"No existe solución única\")\n",
        "        break\n",
        "    # Simular intercambio de filas\n",
        "    if NROW[i] != NROW[p]:\n",
        "        NROW[i], NROW[p] = NROW[p], NROW[i]  # Intercambiamos las filas sin modificar la matriz aumentada\n",
        "    # Eliminación\n",
        "    for j in range(i + 1, n):\n",
        "        m = Aug[NROW[j], i] / Aug[NROW[i], i]   # Determinamos \"m\" (con la fórmula)\n",
        "        Aug[NROW[j], i:] -= m * Aug[NROW[i], i:]  # Hacemos que los elementos debajo del pivote se conviertan en cero\n"
      ],
      "metadata": {
        "id": "V5d-TvZ2b2Dg"
      },
      "execution_count": 4,
      "outputs": []
    },
    {
      "cell_type": "code",
      "source": [
        "# Sustitución hacia atrás\n",
        "x = np.zeros(n)   # Inicializamos el vector solución\n",
        "for i in range(n - 1, -1, -1):  # Comenzamos desde la última fila y resolvemos hacia arriba\n",
        "    suma = sum(Aug[NROW[i], j] * x[j] for j in range(i + 1, n))\n",
        "    x[i] = (Aug[NROW[i], -1] - suma) / Aug[NROW[i], i]  # Determinamos x_i\n",
        "\n",
        "# Imprimir la solución\n",
        "print(\"Solución aproximada del sistema:\")\n",
        "for i, xi in enumerate(x, start=1):  # Por último, imprimimos cada valor de la solución x con tres decimales\n",
        "    print(f\"x{i} = {xi:.3f}\")"
      ],
      "metadata": {
        "colab": {
          "base_uri": "https://localhost:8080/"
        },
        "id": "4nDs1LY1fotf",
        "outputId": "fd9c61ea-5249-4c8f-cd2d-f30a0c59e901"
      },
      "execution_count": 5,
      "outputs": [
        {
          "output_type": "stream",
          "name": "stdout",
          "text": [
            "Solución aproximada del sistema:\n",
            "x1 = -0.428\n",
            "x2 = 0.427\n",
            "x3 = 5.114\n"
          ]
        }
      ]
    }
  ]
}