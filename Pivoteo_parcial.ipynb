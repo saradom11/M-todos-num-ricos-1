{
  "nbformat": 4,
  "nbformat_minor": 0,
  "metadata": {
    "colab": {
      "provenance": [],
      "authorship_tag": "ABX9TyPJA4wUF1/XIK+vXWvJRAwv",
      "include_colab_link": true
    },
    "kernelspec": {
      "name": "python3",
      "display_name": "Python 3"
    },
    "language_info": {
      "name": "python"
    }
  },
  "cells": [
    {
      "cell_type": "markdown",
      "metadata": {
        "id": "view-in-github",
        "colab_type": "text"
      },
      "source": [
        "<a href=\"https://colab.research.google.com/github/saradom11/M-todos-num-ricos-1/blob/main/Pivoteo_parcial.ipynb\" target=\"_parent\"><img src=\"https://colab.research.google.com/assets/colab-badge.svg\" alt=\"Open In Colab\"/></a>"
      ]
    },
    {
      "cell_type": "markdown",
      "source": [
        "# **Pivoteo parcial**\n",
        "#### Escribir un programa en Python que implemente el Algoritmo 6.2 para resolver ecuaciones lineales (página 282 del Burden). Como prueba, resuelva el Ejemplo 2 de la página 281.\n",
        "![image.png](data:image/png;base64,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)"
      ],
      "metadata": {
        "id": "4bKGfRuKBUXK"
      }
    },
    {
      "cell_type": "code",
      "execution_count": 1,
      "metadata": {
        "id": "yphM1NbNAnj0"
      },
      "outputs": [],
      "source": [
        "# Primero importamos la librería\n",
        "import numpy as np"
      ]
    },
    {
      "cell_type": "code",
      "source": [
        "# Ingresamos los datos\n",
        "A = [[0.003, 59.14],  # La matriz de coeficientes del sistema lineal\n",
        "     [5.291, -6.13]]\n",
        "b = [59.17, 46.78]   # La matriz de términos independientes"
      ],
      "metadata": {
        "id": "lSyyikqTDM6j"
      },
      "execution_count": 2,
      "outputs": []
    },
    {
      "cell_type": "code",
      "source": [
        "# Número de ecuaciones\n",
        "n = len(A)\n",
        "\n",
        "# Inicializamos el indicador de fila\n",
        "NROW = list(range(n))\n",
        "\n",
        "# Realizamos la matriz aumentada\n",
        "A = np.array(A, dtype=float)   # Convertimos lo que ingresamos en A a un arreglo de numpy\n",
        "b = np.array(b, dtype=float)   # Convertimos lo que ingresamos en b a un arreglo de numpy\n",
        "Aug = np.column_stack((A, b))  # Crea la matriz aumentada [A | b]"
      ],
      "metadata": {
        "id": "akDC3sV0HWBd"
      },
      "execution_count": 3,
      "outputs": []
    },
    {
      "cell_type": "code",
      "source": [
        "# Comenzamos con el proceso de eliminación:\n",
        "\n",
        "for i in range(n):\n",
        "    # Encontrar el pivote (p)\n",
        "    p = max(range(i, n), key=lambda k: abs(Aug[NROW[k], i]))   #\n",
        "    if abs(Aug[NROW[p], i]) == 0:   # Si el valor del pivote es cero, el sistema no tiene solución única y se detiene el proceso\n",
        "        print(\"No existe solución única\")\n",
        "        break\n",
        "    # Simular intercambio de filas\n",
        "    if NROW[i] != NROW[p]:\n",
        "        NROW[i], NROW[p] = NROW[p], NROW[i]  # Intercambiamos las filas sin modificar la matriz aumentada\n",
        "    # Eliminación\n",
        "    for j in range(i + 1, n):\n",
        "        m = Aug[NROW[j], i] / Aug[NROW[i], i]   # Determinamos \"m\" (con la fórmula)\n",
        "        Aug[NROW[j], i:] -= m * Aug[NROW[i], i:]  # Hacemos que los elementos debajo del pivote se conviertan en cero\n"
      ],
      "metadata": {
        "id": "lz2g7jSLNXqq"
      },
      "execution_count": 4,
      "outputs": []
    },
    {
      "cell_type": "code",
      "source": [
        "# Sustitución hacia atrás\n",
        "x = np.zeros(n)   # Inicializamos el vector solución\n",
        "for i in range(n - 1, -1, -1):  # Comenzamos desde la última fila y resolvemos hacia arriba\n",
        "    suma = sum(Aug[NROW[i], j] * x[j] for j in range(i + 1, n))\n",
        "    x[i] = (Aug[NROW[i], -1] - suma) / Aug[NROW[i], i]  # Determinamos x_i\n",
        "\n",
        "# Imprimir la solución\n",
        "print(\"Solución aproximada del sistema:\")\n",
        "for i, xi in enumerate(x, start=1):  # Por último, imprimimos cada valor de la solución x con cuatro decimales\n",
        "    print(f\"x{i} = {xi:.4f}\")"
      ],
      "metadata": {
        "colab": {
          "base_uri": "https://localhost:8080/"
        },
        "id": "D6dITChOP7O2",
        "outputId": "65da3d2d-8ad6-4ea5-9bfd-5c59005a9a0d"
      },
      "execution_count": 5,
      "outputs": [
        {
          "output_type": "stream",
          "name": "stdout",
          "text": [
            "Solución aproximada del sistema:\n",
            "x1 = 10.0000\n",
            "x2 = 1.0000\n"
          ]
        }
      ]
    }
  ]
}